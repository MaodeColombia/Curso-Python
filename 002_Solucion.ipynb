{
 "cells": [
  {
   "cell_type": "markdown",
   "metadata": {},
   "source": [
    "### Solución Tarea 1"
   ]
  },
  {
   "cell_type": "code",
   "execution_count": 1,
   "metadata": {},
   "outputs": [],
   "source": [
    "# Importar paquetes\n",
    "import pandas as pd\n",
    "import numpy as np\n",
    "import os\n",
    "from sklearn import svm\n",
    "\n",
    "# Configuración para mostrar todas las columnas\n",
    "pd.set_option('display.max_columns', None)"
   ]
  },
  {
   "cell_type": "code",
   "execution_count": 2,
   "metadata": {},
   "outputs": [
    {
     "name": "stdout",
     "output_type": "stream",
     "text": [
      "d:\\A_UNAD\\CURSOS\\2024\\002_PROGRAMACION_DA\\Tarea1\n"
     ]
    }
   ],
   "source": [
    "print(os.getcwd())"
   ]
  },
  {
   "cell_type": "markdown",
   "metadata": {},
   "source": [
    "#### Ejercicio 1\n",
    "\n",
    "Poner texto ejercicio 1...."
   ]
  },
  {
   "cell_type": "code",
   "execution_count": 3,
   "metadata": {},
   "outputs": [],
   "source": [
    "# ruta = os.path.join(\"Anexo 1 - Base de Datos EXCEL.xlsx\")\n",
    "df1 = pd.read_excel(\"Anexo 1 - Base de Datos EXCEL.xlsx\", skiprows = 3, sheet_name = \"BASE DE DATOS\")"
   ]
  },
  {
   "cell_type": "code",
   "execution_count": 4,
   "metadata": {},
   "outputs": [
    {
     "data": {
      "text/html": [
       "<div>\n",
       "<style scoped>\n",
       "    .dataframe tbody tr th:only-of-type {\n",
       "        vertical-align: middle;\n",
       "    }\n",
       "\n",
       "    .dataframe tbody tr th {\n",
       "        vertical-align: top;\n",
       "    }\n",
       "\n",
       "    .dataframe thead th {\n",
       "        text-align: right;\n",
       "    }\n",
       "</style>\n",
       "<table border=\"1\" class=\"dataframe\">\n",
       "  <thead>\n",
       "    <tr style=\"text-align: right;\">\n",
       "      <th></th>\n",
       "      <th>Servicio</th>\n",
       "      <th>Empresa</th>\n",
       "      <th>Turno</th>\n",
       "      <th>Día de la semana</th>\n",
       "      <th>Experiencia del conductor</th>\n",
       "      <th>Formación del Paramédico</th>\n",
       "      <th>Nivel del Paramédico</th>\n",
       "      <th>Cantidad de atenciones</th>\n",
       "      <th>Distancia recorrida (Km)</th>\n",
       "      <th>Velocidad máxima (Km/h)</th>\n",
       "      <th>Consumo de combustible (Galones)</th>\n",
       "      <th>Tiempo en Movimiento (h)</th>\n",
       "      <th>Tiempo motor ON (h)</th>\n",
       "    </tr>\n",
       "  </thead>\n",
       "  <tbody>\n",
       "    <tr>\n",
       "      <th>0</th>\n",
       "      <td>1</td>\n",
       "      <td>TAC</td>\n",
       "      <td>D</td>\n",
       "      <td>5</td>\n",
       "      <td>Principiante</td>\n",
       "      <td>4</td>\n",
       "      <td>I</td>\n",
       "      <td>8</td>\n",
       "      <td>78.4</td>\n",
       "      <td>82</td>\n",
       "      <td>3.1</td>\n",
       "      <td>2.8</td>\n",
       "      <td>3.08</td>\n",
       "    </tr>\n",
       "    <tr>\n",
       "      <th>1</th>\n",
       "      <td>2</td>\n",
       "      <td>TAD</td>\n",
       "      <td>N</td>\n",
       "      <td>4</td>\n",
       "      <td>Principiante</td>\n",
       "      <td>3</td>\n",
       "      <td>B</td>\n",
       "      <td>5</td>\n",
       "      <td>46.2</td>\n",
       "      <td>89</td>\n",
       "      <td>1.9</td>\n",
       "      <td>2.1</td>\n",
       "      <td>2.31</td>\n",
       "    </tr>\n",
       "    <tr>\n",
       "      <th>2</th>\n",
       "      <td>3</td>\n",
       "      <td>TAB</td>\n",
       "      <td>N</td>\n",
       "      <td>4</td>\n",
       "      <td>Experto</td>\n",
       "      <td>4</td>\n",
       "      <td>B</td>\n",
       "      <td>6</td>\n",
       "      <td>62.4</td>\n",
       "      <td>99</td>\n",
       "      <td>2.5</td>\n",
       "      <td>2.6</td>\n",
       "      <td>4.68</td>\n",
       "    </tr>\n",
       "    <tr>\n",
       "      <th>3</th>\n",
       "      <td>4</td>\n",
       "      <td>TAB</td>\n",
       "      <td>D</td>\n",
       "      <td>2</td>\n",
       "      <td>Intermedio</td>\n",
       "      <td>3</td>\n",
       "      <td>B</td>\n",
       "      <td>7</td>\n",
       "      <td>70.2</td>\n",
       "      <td>95</td>\n",
       "      <td>3.0</td>\n",
       "      <td>2.6</td>\n",
       "      <td>3.12</td>\n",
       "    </tr>\n",
       "    <tr>\n",
       "      <th>4</th>\n",
       "      <td>5</td>\n",
       "      <td>TAC</td>\n",
       "      <td>N</td>\n",
       "      <td>7</td>\n",
       "      <td>Principiante</td>\n",
       "      <td>2</td>\n",
       "      <td>I</td>\n",
       "      <td>8</td>\n",
       "      <td>75.6</td>\n",
       "      <td>87</td>\n",
       "      <td>2.8</td>\n",
       "      <td>2.8</td>\n",
       "      <td>3.64</td>\n",
       "    </tr>\n",
       "  </tbody>\n",
       "</table>\n",
       "</div>"
      ],
      "text/plain": [
       "   Servicio Empresa Turno  Día de la semana Experiencia del conductor  \\\n",
       "0         1     TAC     D                 5              Principiante   \n",
       "1         2     TAD     N                 4              Principiante   \n",
       "2         3     TAB     N                 4                   Experto   \n",
       "3         4     TAB     D                 2                Intermedio   \n",
       "4         5     TAC     N                 7              Principiante   \n",
       "\n",
       "   Formación del Paramédico Nivel del Paramédico  Cantidad de atenciones  \\\n",
       "0                         4                    I                       8   \n",
       "1                         3                    B                       5   \n",
       "2                         4                    B                       6   \n",
       "3                         3                    B                       7   \n",
       "4                         2                    I                       8   \n",
       "\n",
       "   Distancia recorrida (Km)  Velocidad máxima (Km/h)  \\\n",
       "0                      78.4                       82   \n",
       "1                      46.2                       89   \n",
       "2                      62.4                       99   \n",
       "3                      70.2                       95   \n",
       "4                      75.6                       87   \n",
       "\n",
       "   Consumo de combustible (Galones)  Tiempo en Movimiento (h)  \\\n",
       "0                               3.1                       2.8   \n",
       "1                               1.9                       2.1   \n",
       "2                               2.5                       2.6   \n",
       "3                               3.0                       2.6   \n",
       "4                               2.8                       2.8   \n",
       "\n",
       "   Tiempo motor ON (h)  \n",
       "0                 3.08  \n",
       "1                 2.31  \n",
       "2                 4.68  \n",
       "3                 3.12  \n",
       "4                 3.64  "
      ]
     },
     "execution_count": 4,
     "metadata": {},
     "output_type": "execute_result"
    }
   ],
   "source": [
    "df1.head()"
   ]
  },
  {
   "cell_type": "code",
   "execution_count": 5,
   "metadata": {},
   "outputs": [
    {
     "name": "stdout",
     "output_type": "stream",
     "text": [
      "<class 'pandas.core.frame.DataFrame'>\n",
      "RangeIndex: 2200 entries, 0 to 2199\n",
      "Data columns (total 13 columns):\n",
      " #   Column                            Non-Null Count  Dtype  \n",
      "---  ------                            --------------  -----  \n",
      " 0   Servicio                          2200 non-null   int64  \n",
      " 1   Empresa                           2200 non-null   object \n",
      " 2   Turno                             2200 non-null   object \n",
      " 3   Día de la semana                  2200 non-null   int64  \n",
      " 4   Experiencia del conductor         2200 non-null   object \n",
      " 5   Formación del Paramédico          2200 non-null   int64  \n",
      " 6   Nivel del Paramédico              2200 non-null   object \n",
      " 7   Cantidad de atenciones            2200 non-null   int64  \n",
      " 8   Distancia recorrida (Km)          2200 non-null   float64\n",
      " 9   Velocidad máxima (Km/h)           2200 non-null   int64  \n",
      " 10  Consumo de combustible (Galones)  2200 non-null   float64\n",
      " 11  Tiempo en Movimiento (h)          2200 non-null   float64\n",
      " 12  Tiempo motor ON (h)               2200 non-null   float64\n",
      "dtypes: float64(4), int64(5), object(4)\n",
      "memory usage: 223.6+ KB\n"
     ]
    }
   ],
   "source": [
    "df1.info()"
   ]
  },
  {
   "cell_type": "code",
   "execution_count": null,
   "metadata": {},
   "outputs": [],
   "source": []
  },
  {
   "cell_type": "markdown",
   "metadata": {},
   "source": [
    "### Ejercicio 2\n",
    "\n",
    "Imprimimos versión de python\n",
    "\n",
    "```python\n",
    "print(python.__version__)\n",
    "```"
   ]
  },
  {
   "cell_type": "markdown",
   "metadata": {},
   "source": []
  },
  {
   "cell_type": "code",
   "execution_count": null,
   "metadata": {},
   "outputs": [],
   "source": []
  }
 ],
 "metadata": {
  "kernelspec": {
   "display_name": "unad_ppad",
   "language": "python",
   "name": "python3"
  },
  "language_info": {
   "codemirror_mode": {
    "name": "ipython",
    "version": 3
   },
   "file_extension": ".py",
   "mimetype": "text/x-python",
   "name": "python",
   "nbconvert_exporter": "python",
   "pygments_lexer": "ipython3",
   "version": "3.12.7"
  }
 },
 "nbformat": 4,
 "nbformat_minor": 2
}
